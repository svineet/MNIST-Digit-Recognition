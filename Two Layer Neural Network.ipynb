{
 "cells": [
  {
   "cell_type": "code",
   "execution_count": 1,
   "metadata": {},
   "outputs": [],
   "source": [
    "import pandas as pd\n",
    "import numpy as np\n",
    "\n",
    "from matplotlib import pyplot as plt\n",
    "\n",
    "import random\n",
    "\n",
    "from load_data import load_data, load_test_data\n",
    "\n",
    "%matplotlib inline\n",
    "%reload_ext autoreload\n",
    "%autoreload 2\n",
    "\n",
    "plt.rcParams['figure.figsize'] = (10.0, 8.0) # set default size of plots\n",
    "plt.rcParams['image.interpolation'] = 'nearest'\n",
    "plt.rcParams['image.cmap'] = 'gray'"
   ]
  },
  {
   "cell_type": "markdown",
   "metadata": {},
   "source": [
    "Load and Transform Data for performance\n",
    "---"
   ]
  },
  {
   "cell_type": "code",
   "execution_count": 2,
   "metadata": {},
   "outputs": [],
   "source": [
    "X_train, y_train, X_val, y_val = [_.values for _ in load_data('train.csv', 1000)]"
   ]
  },
  {
   "cell_type": "code",
   "execution_count": 3,
   "metadata": {},
   "outputs": [],
   "source": [
    "def normalize_data(data):\n",
    "    # Zero center it\n",
    "    data = data - data.mean(axis=0)\n",
    "    \n",
    "# for thing in [X_train, X_val]: normalize_data(thing)"
   ]
  },
  {
   "cell_type": "markdown",
   "metadata": {},
   "source": [
    "Test gradient and loss function on toy data\n",
    "---"
   ]
  },
  {
   "cell_type": "code",
   "execution_count": 4,
   "metadata": {},
   "outputs": [],
   "source": [
    "from neural_net import TwoLayerNet\n",
    "\n",
    "N, D = X_train.shape\n",
    "H = 30\n",
    "C = 10\n",
    "network = TwoLayerNet(D, H, C)\n",
    "\n",
    "# network.loss(X_train, y_train)"
   ]
  },
  {
   "cell_type": "code",
   "execution_count": 5,
   "metadata": {},
   "outputs": [
    {
     "name": "stdout",
     "output_type": "stream",
     "text": [
      "Your scores:\n",
      "[[-0.81233741 -1.27654624 -0.70335995]\n",
      " [-0.17129677 -1.18803311 -0.47310444]\n",
      " [-0.51590475 -1.01354314 -0.8504215 ]\n",
      " [-0.15419291 -0.48629638 -0.52901952]\n",
      " [-0.00618733 -0.12435261 -0.15226949]]\n",
      "\n",
      "correct scores:\n",
      "Difference between your loss and correct loss:\n",
      "1.7985612998927536e-13\n"
     ]
    }
   ],
   "source": [
    "input_size = 4\n",
    "hidden_size = 10\n",
    "num_classes = 3\n",
    "num_inputs = 5\n",
    "\n",
    "def init_toy_model():\n",
    "    np.random.seed(0)\n",
    "    return TwoLayerNet(input_size, hidden_size, num_classes, std=1e-1)\n",
    "\n",
    "def init_toy_data():\n",
    "    np.random.seed(1)\n",
    "    X = 10 * np.random.randn(num_inputs, input_size)\n",
    "    y = np.array([0, 1, 2, 2, 1])\n",
    "    return X, y\n",
    "\n",
    "net = init_toy_model()\n",
    "X, y = init_toy_data()\n",
    "\n",
    "scores = net.loss(X)\n",
    "print('Your scores:')\n",
    "print(scores)\n",
    "print()\n",
    "print('correct scores:')\n",
    "correct_scores = np.asarray([\n",
    "  [-0.81233741, -1.27654624, -0.70335995],\n",
    "  [-0.17129677, -1.18803311, -0.47310444],\n",
    "  [-0.51590475, -1.01354314, -0.8504215 ],\n",
    "  [-0.15419291, -0.48629638, -0.52901952],\n",
    "  [-0.00618733, -0.12435261, -0.15226949]])\n",
    "\n",
    "loss, _ = net.loss(X, y, reg=0.05)\n",
    "correct_loss = 1.30378789133\n",
    "\n",
    "# should be very small, we get < 1e-12\n",
    "print('Difference between your loss and correct loss:')\n",
    "print(np.sum(np.abs(loss - correct_loss)))"
   ]
  },
  {
   "cell_type": "markdown",
   "metadata": {},
   "source": [
    "Train on test data with random hyperparameters\n",
    "---"
   ]
  },
  {
   "cell_type": "code",
   "execution_count": 8,
   "metadata": {},
   "outputs": [
    {
     "name": "stdout",
     "output_type": "stream",
     "text": [
      "iteration 0 / 1000: loss 2.302983\n",
      "iteration 100 / 1000: loss 2.299978\n",
      "iteration 200 / 1000: loss 2.162781\n",
      "iteration 300 / 1000: loss 1.470728\n",
      "iteration 400 / 1000: loss 1.040808\n",
      "iteration 500 / 1000: loss 0.826543\n",
      "iteration 600 / 1000: loss 0.807276\n",
      "iteration 700 / 1000: loss 0.592969\n",
      "iteration 800 / 1000: loss 0.621248\n",
      "iteration 900 / 1000: loss 0.592060\n",
      "Validation accuracy:  0.887\n"
     ]
    }
   ],
   "source": [
    "input_size = 784\n",
    "hidden_size = 50\n",
    "num_classes = 10\n",
    "net = TwoLayerNet(input_size, hidden_size, num_classes)\n",
    "\n",
    "# Train the network\n",
    "stats = net.train(X_train, y_train, X_val, y_val,\n",
    "            num_iters=1000, batch_size=128,\n",
    "            learning_rate=2e-4, learning_rate_decay=0.95,\n",
    "            reg=1, verbose=True)\n",
    "\n",
    "# Predict on the validation set\n",
    "val_acc = (net.predict(X_val) == y_val).mean()\n",
    "print('Validation accuracy: ', val_acc)"
   ]
  },
  {
   "cell_type": "markdown",
   "metadata": {},
   "source": [
    "Visualize loss and weights\n",
    "---"
   ]
  },
  {
   "cell_type": "code",
   "execution_count": 78,
   "metadata": {},
   "outputs": [
    {
     "data": {
      "text/plain": [
       "<matplotlib.image.AxesImage at 0x7fe7c26b0588>"
      ]
     },
     "execution_count": 78,
     "metadata": {},
     "output_type": "execute_result"
    },
    {
     "data": {
      "image/png": "[encoded data removed]",
      "text/plain": [
       "<Figure size 432x288 with 1 Axes>"
      ]
     },
     "metadata": {
      "needs_background": "light"
     },
     "output_type": "display_data"
    }
   ],
   "source": [
    "w1 = net.params['W1']\n",
    "# 50 neurons with there own opinions on what is going on\n",
    "# Let us see the first neuron's weight matrix visualized\n",
    "\n",
    "plt.imshow(w1.T.reshape((-1, 28, 28))[36])"
   ]
  },
  {
   "cell_type": "code",
   "execution_count": 76,
   "metadata": {},
   "outputs": [
    {
     "data": {
      "text/plain": [
       "array([[0, 1, 2],\n",
       "       [3, 4, 5],\n",
       "       [6, 7, 8]])"
      ]
     },
     "execution_count": 76,
     "metadata": {},
     "output_type": "execute_result"
    }
   ],
   "source": [
    "np.arange(18).reshape((-1, 3, 3))[0]"
   ]
  },
  {
   "cell_type": "markdown",
   "metadata": {},
   "source": [
    "Optimizing hyperparameters via grid search\n",
    "---"
   ]
  },
  {
   "cell_type": "code",
   "execution_count": 19,
   "metadata": {},
   "outputs": [
    {
     "name": "stdout",
     "output_type": "stream",
     "text": [
      "Grid search on point 1; Took 13.093685865402222 time\n",
      "New best model with val_acc: 0.837. Train acc: 0.8427317073170731\n",
      "Learning rate: 0.0001, regularisation: 0.0\n",
      "Grid search on point 2; Took 15.650002002716064 time\n",
      "New best model with val_acc: 0.842. Train acc: 0.8423170731707317\n",
      "Learning rate: 0.0001, regularisation: 0.25\n",
      "Grid search on point 3; Took 11.462507247924805 time\n",
      "Grid search on point 4; Took 14.56571650505066 time\n",
      "Grid search on point 5; Took 11.283710718154907 time\n",
      "Grid search on point 6; Took 10.78742265701294 time\n",
      "New best model with val_acc: 0.896. Train acc: 0.8959024390243903\n",
      "Learning rate: 0.00019999999999999998, regularisation: 0.0\n",
      "Grid search on point 7; Took 11.195134401321411 time\n",
      "New best model with val_acc: 0.897. Train acc: 0.8970487804878049\n",
      "Learning rate: 0.00019999999999999998, regularisation: 0.25\n",
      "Grid search on point 8; Took 12.459130764007568 time\n",
      "Grid search on point 9; Took 13.544969320297241 time\n",
      "Grid search on point 10; Took 16.458263158798218 time\n",
      "Grid search on point 11; Took 11.925670862197876 time\n",
      "New best model with val_acc: 0.905. Train acc: 0.9047804878048781\n",
      "Learning rate: 0.0003, regularisation: 0.0\n",
      "Grid search on point 12; Took 12.318609237670898 time\n",
      "Grid search on point 13; Took 15.147241830825806 time\n",
      "Grid search on point 14; Took 12.812223196029663 time\n",
      "Grid search on point 15; Took 18.215104579925537 time\n",
      "Grid search on point 16; Took 18.25123357772827 time\n",
      "New best model with val_acc: 0.911. Train acc: 0.9144878048780488\n",
      "Learning rate: 0.00039999999999999996, regularisation: 0.0\n",
      "Grid search on point 17; Took 16.301761865615845 time\n",
      "Grid search on point 18; Took 16.18103837966919 time\n",
      "Grid search on point 19; Took 19.00120735168457 time\n",
      "Grid search on point 20; Took 14.30778193473816 time\n",
      "Grid search on point 21; Took 19.01719903945923 time\n",
      "Grid search on point 22; Took 15.97514295578003 time\n",
      "Grid search on point 23; Took 14.887128353118896 time\n",
      "New best model with val_acc: 0.913. Train acc: 0.9138536585365854\n",
      "Learning rate: 0.0005, regularisation: 0.5\n",
      "Grid search on point 24; Took 14.401660680770874 time\n",
      "Grid search on point 25; Took 15.495303869247437 time\n",
      "Grid search on point 26; Took 13.928736925125122 time\n",
      "New best model with val_acc: 0.919. Train acc: 0.9191463414634147\n",
      "Learning rate: 0.0006000000000000001, regularisation: 0.0\n",
      "Grid search on point 27; Took 15.06627893447876 time\n",
      "Grid search on point 28; Took 15.99246621131897 time\n",
      "Grid search on point 29; Took 14.247062683105469 time\n",
      "Grid search on point 30; Took 15.634637117385864 time\n",
      "Grid search on point 31; Took 17.1243417263031 time\n",
      "Grid search on point 32; Took 13.94351077079773 time\n",
      "Grid search on point 33; Took 14.42827033996582 time\n",
      "Grid search on point 34; Took 14.13610315322876 time\n",
      "Grid search on point 35; Took 13.353609800338745 time\n",
      "Grid search on point 36; Took 13.600639581680298 time\n",
      "Grid search on point 37; Took 14.420238733291626 time\n",
      "Grid search on point 38; Took 12.818053483963013 time\n",
      "Grid search on point 39; Took 14.814615249633789 time\n",
      "Grid search on point 40; Took 20.46947932243347 time\n",
      "Grid search on point 41; Took 16.13913369178772 time\n",
      "Grid search on point 42; Took 13.626387357711792 time\n",
      "Grid search on point 43; Took 13.89882230758667 time\n",
      "Grid search on point 44; Took 13.976658821105957 time\n",
      "Grid search on point 45; Took 14.348020553588867 time\n",
      "Grid search on point 46; Took 14.667437076568604 time\n",
      "Grid search on point 47; Took 16.203026056289673 time\n",
      "Grid search on point 48; Took 13.875423431396484 time\n",
      "Grid search on point 49; Took 14.226099252700806 time\n",
      "Grid search on point 50; Took 16.67387866973877 time\n",
      "Done\n",
      "0.919  is the best validation accuracy attained\n"
     ]
    }
   ],
   "source": [
    "import time\n",
    "import copy\n",
    "\n",
    "eta_range = np.linspace(1e-4, 1e-3, 10)\n",
    "reg_range = np.linspace(0, 1, 5)\n",
    "\n",
    "best_val_acc = -1\n",
    "best_model = None\n",
    "i = 1\n",
    "for eta in eta_range:\n",
    "    for reg in reg_range:\n",
    "        print(f'Grid search on point {i}; ',end=''); i += 1;\n",
    "\n",
    "        tic = time.time()\n",
    "        net = TwoLayerNet(input_size, hidden_size, num_classes)\n",
    "        stats = net.train(X_train, y_train, X_val, y_val,\n",
    "                            num_iters=1500, batch_size=100,\n",
    "                            learning_rate=eta, learning_rate_decay=0.9,\n",
    "                            reg=reg, verbose=False)\n",
    "\n",
    "        val_acc = (net.predict(X_val) == y_val).mean()\n",
    "        train_acc = (net.predict(X_train) == y_train).mean()\n",
    "        toc = time.time()\n",
    "\n",
    "        print(f'Took {toc-tic} time')\n",
    "\n",
    "        if val_acc > best_val_acc:\n",
    "            best_model = copy.deepcopy(net)\n",
    "            best_val_acc = val_acc\n",
    "\n",
    "            print(f'New best model with val_acc: {val_acc}. Train acc: {train_acc}')\n",
    "            print(f'Learning rate: {eta}, regularisation: {reg}')\n",
    "\n",
    "print(\"Done\")\n",
    "print(best_val_acc, \" is the best validation accuracy attained\")"
   ]
  },
  {
   "cell_type": "markdown",
   "metadata": {},
   "source": [
    "Load and process test data\n",
    "---"
   ]
  },
  {
   "cell_type": "code",
   "execution_count": 10,
   "metadata": {},
   "outputs": [],
   "source": [
    "X_test = load_test_data(\"test.csv\")"
   ]
  },
  {
   "cell_type": "code",
   "execution_count": null,
   "metadata": {},
   "outputs": [],
   "source": [
    "test_result = pd.DataFrame()\n",
    "test_result['Label'] = best_model.predict(X_test)\n",
    "test_result.index += 1\n",
    "test_result.index.name = \"ImageId\"\n",
    "\n",
    "test_result.head()"
   ]
  },
  {
   "cell_type": "code",
   "execution_count": null,
   "metadata": {},
   "outputs": [],
   "source": [
    "test_result.to_csv(\"submission.csv\")"
   ]
  },
  {
   "cell_type": "code",
   "execution_count": 21,
   "metadata": {},
   "outputs": [
    {
     "name": "stdout",
     "output_type": "stream",
     "text": [
      "iteration 0 / 2000: loss 2.302673\n",
      "iteration 100 / 2000: loss 1.602168\n",
      "iteration 200 / 2000: loss 0.622944\n",
      "iteration 300 / 2000: loss 0.516671\n",
      "iteration 400 / 2000: loss 0.457658\n",
      "iteration 500 / 2000: loss 0.469043\n",
      "iteration 600 / 2000: loss 0.439262\n",
      "iteration 700 / 2000: loss 0.446416\n",
      "iteration 800 / 2000: loss 0.413329\n",
      "iteration 900 / 2000: loss 0.383128\n",
      "iteration 1000 / 2000: loss 0.333476\n",
      "iteration 1100 / 2000: loss 0.365400\n",
      "iteration 1200 / 2000: loss 0.364500\n",
      "iteration 1300 / 2000: loss 0.367352\n",
      "iteration 1400 / 2000: loss 0.376366\n",
      "iteration 1500 / 2000: loss 0.384050\n",
      "iteration 1600 / 2000: loss 0.356860\n",
      "iteration 1700 / 2000: loss 0.365973\n",
      "iteration 1800 / 2000: loss 0.362824\n",
      "iteration 1900 / 2000: loss 0.419685\n",
      "Validation accuracy:  0.915\n"
     ]
    }
   ],
   "source": [
    "input_size = 784\n",
    "hidden_size = 50\n",
    "num_classes = 10\n",
    "net = TwoLayerNet(input_size, hidden_size, num_classes)\n",
    "\n",
    "# Train the network\n",
    "stats = net.train(X_train, y_train, X_val, y_val,\n",
    "            num_iters=2000, batch_size=500,\n",
    "            learning_rate=0.0006, learning_rate_decay=0.95,\n",
    "            reg=0.25, verbose=True)\n",
    "\n",
    "# Predict on the validation set\n",
    "val_acc = (net.predict(X_val) == y_val).mean()\n",
    "print('Validation accuracy: ', val_acc)"
   ]
  },
  {
   "cell_type": "code",
   "execution_count": 140,
   "metadata": {},
   "outputs": [
    {
     "data": {
      "text/plain": [
       "[<matplotlib.lines.Line2D at 0x7f665dfa3a90>]"
      ]
     },
     "execution_count": 140,
     "metadata": {},
     "output_type": "execute_result"
    },
    {
     "data": {
      "image/png": "[encoded data removed]",
      "text/plain": [
       "<Figure size 720x576 with 1 Axes>"
      ]
     },
     "metadata": {
      "needs_background": "light"
     },
     "output_type": "display_data"
    }
   ],
   "source": [
    "plt.plot(stats['val_acc_history'])\n",
    "plt.plot(stats['train_acc_history'])"
   ]
  },
  {
   "cell_type": "code",
   "execution_count": 141,
   "metadata": {},
   "outputs": [
    {
     "data": {
      "text/html": [
       "<div>\n",
       "<style scoped>\n",
       "    .dataframe tbody tr th:only-of-type {\n",
       "        vertical-align: middle;\n",
       "    }\n",
       "\n",
       "    .dataframe tbody tr th {\n",
       "        vertical-align: top;\n",
       "    }\n",
       "\n",
       "    .dataframe thead th {\n",
       "        text-align: right;\n",
       "    }\n",
       "</style>\n",
       "<table border=\"1\" class=\"dataframe\">\n",
       "  <thead>\n",
       "    <tr style=\"text-align: right;\">\n",
       "      <th></th>\n",
       "      <th>Label</th>\n",
       "    </tr>\n",
       "    <tr>\n",
       "      <th>ImageId</th>\n",
       "      <th></th>\n",
       "    </tr>\n",
       "  </thead>\n",
       "  <tbody>\n",
       "    <tr>\n",
       "      <th>1</th>\n",
       "      <td>2</td>\n",
       "    </tr>\n",
       "    <tr>\n",
       "      <th>2</th>\n",
       "      <td>0</td>\n",
       "    </tr>\n",
       "    <tr>\n",
       "      <th>3</th>\n",
       "      <td>9</td>\n",
       "    </tr>\n",
       "    <tr>\n",
       "      <th>4</th>\n",
       "      <td>9</td>\n",
       "    </tr>\n",
       "    <tr>\n",
       "      <th>5</th>\n",
       "      <td>3</td>\n",
       "    </tr>\n",
       "  </tbody>\n",
       "</table>\n",
       "</div>"
      ],
      "text/plain": [
       "         Label\n",
       "ImageId       \n",
       "1            2\n",
       "2            0\n",
       "3            9\n",
       "4            9\n",
       "5            3"
      ]
     },
     "execution_count": 141,
     "metadata": {},
     "output_type": "execute_result"
    }
   ],
   "source": [
    "test_result = pd.DataFrame()\n",
    "test_result['Label'] = net.predict(X_test)\n",
    "test_result.index += 1\n",
    "test_result.index.name = \"ImageId\"\n",
    "\n",
    "test_result.head()"
   ]
  },
  {
   "cell_type": "code",
   "execution_count": 142,
   "metadata": {},
   "outputs": [],
   "source": [
    "test_result.to_csv(\"submission.csv\")"
   ]
  }
 ],
 "metadata": {
  "kernelspec": {
   "display_name": "Python 3",
   "language": "python",
   "name": "python3"
  },
  "language_info": {
   "codemirror_mode": {
    "name": "ipython",
    "version": 3
   },
   "file_extension": ".py",
   "mimetype": "text/x-python",
   "name": "python",
   "nbconvert_exporter": "python",
   "pygments_lexer": "ipython3",
   "version": "3.6.6"
  }
 },
 "nbformat": 4,
 "nbformat_minor": 2
}
