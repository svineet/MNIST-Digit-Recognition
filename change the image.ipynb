{
 "cells": [
  {
   "cell_type": "code",
   "execution_count": 2,
   "metadata": {},
   "outputs": [],
   "source": [
    "import numpy as np\n",
    "from matplotlib import pyplot as plt\n",
    "from imageio import imread\n",
    "\n",
    "import random\n",
    "\n",
    "%matplotlib inline\n",
    "%reload_ext autoreload\n",
    "%autoreload 2\n",
    "\n",
    "plt.rcParams['figure.figsize'] = (10.0, 8.0) # set default size of plots\n",
    "plt.rcParams['image.interpolation'] = 'nearest'\n",
    "plt.rcParams['image.cmap'] = 'gray'"
   ]
  },
  {
   "cell_type": "markdown",
   "metadata": {},
   "source": [
    "Idea\n",
    "----\n",
    "\n",
    "We take an image. We try to make the network make it look like something else instead. Something it has learned.\n",
    "\n",
    "Let us say we are given an image of a thing. Then we say to the net, pls make this image look like a 0 instead, whatever it's concept of a zero is.\n",
    "\n",
    "How the net will backprop to the image\n",
    "---\n",
    "\n",
    "thing example continues.  \n",
    "First we feed it the image and it generates some output. Throw that shit out idgaf abt dat shit. Now we apply the loss as if the real class that was meant for it was actually 0. Then we get during backprop, d(everything) and that includes dImage!!! We backprop on the image. We deduct the dImage from the image. That's it"
   ]
  },
  {
   "cell_type": "code",
   "execution_count": 3,
   "metadata": {},
   "outputs": [
    {
     "data": {
      "text/plain": [
       "<matplotlib.image.AxesImage at 0x7f49b5242358>"
      ]
     },
     "execution_count": 3,
     "metadata": {},
     "output_type": "execute_result"
    },
    {
     "data": {
      "image/png": "[encoded data removed]",
      "text/plain": [
       "<Figure size 432x288 with 1 Axes>"
      ]
     },
     "metadata": {
      "needs_background": "light"
     },
     "output_type": "display_data"
    }
   ],
   "source": [
    "og_image = imread('custom_created_data/five_gray.jpg')\n",
    "test_image = og_image.flatten().astype('float')\n",
    "plt.imshow(og_image)\n",
    "\n",
    "# Our test subject for the day is this nibba"
   ]
  },
  {
   "cell_type": "code",
   "execution_count": 4,
   "metadata": {},
   "outputs": [],
   "source": [
    "# Load the model\n",
    "import pickle\n",
    "\n",
    "net = pickle.load(open('best_mnist_net.pickle', 'rb'))"
   ]
  },
  {
   "cell_type": "code",
   "execution_count": 5,
   "metadata": {},
   "outputs": [
    {
     "data": {
      "text/plain": [
       "[<matplotlib.lines.Line2D at 0x7f49b51de8d0>]"
      ]
     },
     "execution_count": 5,
     "metadata": {},
     "output_type": "execute_result"
    },
    {
     "data": {
      "image/png": "[encoded data removed]",
      "text/plain": [
       "<Figure size 432x288 with 1 Axes>"
      ]
     },
     "metadata": {
      "needs_background": "light"
     },
     "output_type": "display_data"
    }
   ],
   "source": [
    "# Reload image everytime because it will change when we run this method\n",
    "test_image = 255*np.ones(784) # og_image.flatten().astype('float')\n",
    "make_it_look_like = 1\n",
    "\n",
    "stats = net.fuck_the_image(test_image, [make_it_look_like], learning_rate=5000, \n",
    "                           num_iters=1000,\n",
    "                           verbose=False)\n",
    "plt.plot(stats['loss_history'])"
   ]
  },
  {
   "cell_type": "code",
   "execution_count": 6,
   "metadata": {},
   "outputs": [
    {
     "name": "stdout",
     "output_type": "stream",
     "text": [
      "Number of problematic things are  0 251\n"
     ]
    },
    {
     "data": {
      "text/plain": [
       "<matplotlib.image.AxesImage at 0x7f49b514a4e0>"
      ]
     },
     "execution_count": 6,
     "metadata": {},
     "output_type": "execute_result"
    },
    {
     "data": {
      "image/png": "[encoded data removed]",
      "text/plain": [
       "<Figure size 432x288 with 1 Axes>"
      ]
     },
     "metadata": {
      "needs_background": "light"
     },
     "output_type": "display_data"
    }
   ],
   "source": [
    "# Fix up the image a little bit, remove not image-like things\n",
    "# keep pixel level bounded to 0, 255\n",
    "\n",
    "rest_image = test_image.copy()\n",
    "rest_image.resize((28, 28))\n",
    "print(\"Number of problematic things are \", np.sum(rest_image < 0), np.sum(rest_image > 255))\n",
    "rest_image[(rest_image < 0)] = 0\n",
    "rest_image[rest_image > 255]= 255\n",
    "\n",
    "plt.imshow(rest_image.astype('uint8'))"
   ]
  },
  {
   "cell_type": "code",
   "execution_count": 7,
   "metadata": {},
   "outputs": [
    {
     "data": {
      "text/plain": [
       "<matplotlib.image.AxesImage at 0x7f49b511ef60>"
      ]
     },
     "execution_count": 7,
     "metadata": {},
     "output_type": "execute_result"
    },
    {
     "data": {
      "image/png": "[encoded data removed]",
      "text/plain": [
       "<Figure size 432x288 with 1 Axes>"
      ]
     },
     "metadata": {
      "needs_background": "light"
     },
     "output_type": "display_data"
    }
   ],
   "source": [
    "# If it is a black pixel then it has low weightage.\n",
    "# That means white pixels are what that neuron is looking for\n",
    "# if we intuit dot product is a similarity indicating operation\n",
    "\n",
    "first_neuron_eyes = net.params['W1'][:, 1].copy()\n",
    "plt.imshow(first_neuron_eyes.reshape(28, 28))"
   ]
  },
  {
   "cell_type": "code",
   "execution_count": null,
   "metadata": {},
   "outputs": [],
   "source": []
  }
 ],
 "metadata": {
  "kernelspec": {
   "display_name": "Python 3",
   "language": "python",
   "name": "python3"
  },
  "language_info": {
   "codemirror_mode": {
    "name": "ipython",
    "version": 3
   },
   "file_extension": ".py",
   "mimetype": "text/x-python",
   "name": "python",
   "nbconvert_exporter": "python",
   "pygments_lexer": "ipython3",
   "version": "3.6.8"
  }
 },
 "nbformat": 4,
 "nbformat_minor": 2
}
